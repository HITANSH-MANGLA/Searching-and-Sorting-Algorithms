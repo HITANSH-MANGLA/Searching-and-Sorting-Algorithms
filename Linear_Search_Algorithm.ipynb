{
  "nbformat": 4,
  "nbformat_minor": 0,
  "metadata": {
    "colab": {
      "provenance": []
    },
    "kernelspec": {
      "name": "python3",
      "display_name": "Python 3"
    },
    "language_info": {
      "name": "python"
    }
  },
  "cells": [
    {
      "cell_type": "markdown",
      "source": [
        "**Linear Search Algorithm**\n",
        "\n",
        "Linear Search is a searching algorithm in which we check each element of the array one by one until the required element is found or the array ends."
      ],
      "metadata": {
        "id": "qzbXC8dIcyzQ"
      }
    },
    {
      "cell_type": "code",
      "execution_count": 1,
      "metadata": {
        "id": "wCZPpQzAcus6"
      },
      "outputs": [],
      "source": [
        "#linear search algorithm\n",
        "def linear_search(arry,target):\n",
        "  size = len(arry)\n",
        "  for i in range(0,size):\n",
        "    if(arry[i]==target):\n",
        "      return i\n",
        "  return -1"
      ]
    },
    {
      "cell_type": "code",
      "source": [
        "linear_search([0,11,25,96,10],65) # searching for 65 = target and the array is there\n"
      ],
      "metadata": {
        "colab": {
          "base_uri": "https://localhost:8080/"
        },
        "id": "bXHXhE21dJg6",
        "outputId": "1d15c967-291d-40f6-c0d3-106412b1a9ea"
      },
      "execution_count": 2,
      "outputs": [
        {
          "output_type": "execute_result",
          "data": {
            "text/plain": [
              "-1"
            ]
          },
          "metadata": {},
          "execution_count": 2
        }
      ]
    },
    {
      "cell_type": "markdown",
      "source": [
        "**Leetcode Question No:2089**\n",
        "\n",
        "Question Summary:-\n",
        "\n",
        "You are given an integer array nums and a target value target.\n",
        "First, sort the array in non-decreasing order.\n",
        "Then, return a list of all indices where the element is equal to the target.\n",
        "If the target is not found, return an empty list."
      ],
      "metadata": {
        "id": "Y6nTjdwxdVTK"
      }
    },
    {
      "cell_type": "code",
      "source": [
        "from typing import List\n",
        "\n",
        "class Solution:\n",
        "    def targetIndices(self, nums: List[int], target: int) -> List[int]:\n",
        "        nums.sort()  # Step 1: Sort the array\n",
        "        result = []  # Step 2: To store indices where nums[i] == target\n",
        "\n",
        "        for i in range(len(nums)):  # Step 3: Linear search\n",
        "            if nums[i] == target:\n",
        "                result.append(i)\n",
        "\n",
        "        return result  # Step 4: Return the final list of indices\n",
        "\n",
        "\n",
        "\n",
        "\n",
        "\n",
        "\n"
      ],
      "metadata": {
        "id": "J6P__PdbdUKZ"
      },
      "execution_count": 11,
      "outputs": []
    },
    {
      "cell_type": "code",
      "source": [],
      "metadata": {
        "id": "9NC7drRYeJ1q"
      },
      "execution_count": null,
      "outputs": []
    }
  ]
}